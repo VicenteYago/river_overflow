{
 "cells": [
  {
   "cell_type": "markdown",
   "id": "3efa5f5b",
   "metadata": {},
   "source": [
    "\n",
    "# RIVER OVERFLOW IN MARESME"
   ]
  },
  {
   "cell_type": "markdown",
   "id": "21d820b5",
   "metadata": {},
   "source": [
    "# 1 - Introduction"
   ]
  },
  {
   "cell_type": "markdown",
   "id": "26168a84",
   "metadata": {},
   "source": [
    "The objective of this test is to evaluate the candidate’s ability working with Python and Geospatial data. You are asked to build a Python Notebook to assess the impact of floodings during the Gloria storm (**Januray 15th-25th, 2020**) in an area of interest of your choosing inside the Maresme county along the Tordera river (Catalonia, Spain)."
   ]
  },
  {
   "cell_type": "markdown",
   "id": "81ad3adc",
   "metadata": {},
   "source": [
    "You are asked to produce at least one of the following analytics:\n",
    "\n",
    "* Number of square kilometers affected by the floodings.\n",
    "\n",
    "* The affected population.\n",
    "\n",
    "* The affected roads.\n",
    "\n",
    "You must use satellite imagery in your analysis (consider using free Sentinel data) for point 1 and combine the results with open data for points 2 and 3. Aspects such as code readability, appealing visualizations and reproducibility will be highly valued."
   ]
  },
  {
   "cell_type": "code",
   "execution_count": null,
   "id": "4da2510a",
   "metadata": {},
   "outputs": [],
   "source": [
    "# MODULE                                             # DESCRIPTION\n",
    "import numpy as np                                   # scientific computing\n",
    "import numpy.ma as ma                                # numpy masked arrays\n",
    "import pandas as pd                                  # data analysis and manipulation\n",
    "import geopandas as gpd                              # geospatial data analysis\n",
    "import folium                                        # interactive data visualization\n",
    "import re                                            # regular expressions\n",
    "import matplotlib.pyplot as plt                      # create visualizations\n",
    "import seaborn as sns                                # create visualizations\n",
    "import datetime                                      # datetime manipulation\n",
    "import glob                                          # unix pathname expansion\n",
    "import rioxarray                                     # rasterio xarray extension\n",
    "import xarray as xr\n",
    "from pathlib import Path                             # \n",
    "import math                                          #\n",
    "import random     \n",
    "from os import listdir\n",
    "from os.path import isfile, join\n",
    "\n",
    "\n",
    "def S2_getDate(filename) :\n",
    "    basename = Path(filename).stem  \n",
    "    try :\n",
    "        found = re.search('S2(A|B)2A_(\\d+)_.*',basename).group(2)\n",
    "        dt = datetime.datetime.strptime(found, '%Y%m%d')\n",
    "        \n",
    "    except AttributeError:\n",
    "        raise ValueError('Error: Date can not be extracted from filename %s .' % filename)\n",
    "        \n",
    "    return dt"
   ]
  },
  {
   "cell_type": "markdown",
   "id": "9587dafe",
   "metadata": {},
   "source": [
    "The Tordera river extends over the Maresme county in Cataluña, Spain. In the following image the Tordera river basin is depicted:"
   ]
  },
  {
   "cell_type": "markdown",
   "id": "92887a4e",
   "metadata": {},
   "source": [
    "![](./img/tordera.png)"
   ]
  },
  {
   "cell_type": "markdown",
   "id": "7fe48739",
   "metadata": {},
   "source": [
    "The river flows into the Mediterranean Sea in Malgrat del Mar."
   ]
  },
  {
   "cell_type": "code",
   "execution_count": null,
   "id": "e926e844",
   "metadata": {},
   "outputs": [],
   "source": [
    "tordera = gpd.read_file('./sentinel2/tordera_basin.geojson')\n",
    "\n",
    "m = folium.Map(location = [41.732289, 2.661523],\n",
    "               zoom_start = 11,\n",
    "               tiles = \"CartoDB positron\")\n",
    "\n",
    "\n",
    "for _, r in tordera.iterrows():\n",
    "    sim_geo = gpd.GeoSeries(r['geometry']).simplify(tolerance=0.001)\n",
    "    geo_j = sim_geo.to_json()\n",
    "    geo_j = folium.GeoJson(data=geo_j,\n",
    "                           style_function=lambda x: {'fillColor': 'orange'})\n",
    "    geo_j.add_to(m)\n",
    "m"
   ]
  },
  {
   "cell_type": "markdown",
   "id": "f3a43865",
   "metadata": {},
   "source": [
    "# 2 - Satellite data"
   ]
  },
  {
   "cell_type": "markdown",
   "id": "56c45f74",
   "metadata": {},
   "source": [
    "First of all we need the satellite data, concretely we will use the Sentinel-2(S2) satellite imagery, whic is well suited to monitorize this events due to its high resolution of 10ms/px. S2 updates new information for a given place each 5 days."
   ]
  },
  {
   "cell_type": "markdown",
   "id": "1553deb2",
   "metadata": {},
   "source": [
    "Tho download the images we will use the [sen2r](https://sen2r.ranghetti.info/) library, the required images are already stored in the `/sentinel`directory. The following scripts execute the `runSentinel.sh` script for the range `[2019-01-01 - 2020-02-15]`. This code already downloads the corrected [level 2A](https://sentinels.copernicus.eu/web/sentinel/user-guides/sentinel-2-msi/product-types/level-2a) images and crop its to the required shape.\n",
    "\n",
    "Also the script computes the following products: \n",
    "\n",
    "- [Scene Classification Layer - SCL](https://sentinels.copernicus.eu/web/sentinel/technical-guides/sentinel-2-msi/level-2a/algorithm)\n",
    "- Bottom of Atmosphere (BOA) Reflectance"
   ]
  },
  {
   "cell_type": "code",
   "execution_count": null,
   "id": "fd333b2a",
   "metadata": {},
   "outputs": [],
   "source": [
    "# Run inside ./sentinel folder: \n",
    "# ./runSentinel.sh ./inputs-config.json tordera_basin.geojson 'tordera' '2019-12-01' '2020-02-01'"
   ]
  },
  {
   "cell_type": "code",
   "execution_count": null,
   "id": "0de95cfd",
   "metadata": {},
   "outputs": [],
   "source": [
    "! ls -l ./sentinel2/out/SCL"
   ]
  },
  {
   "cell_type": "code",
   "execution_count": null,
   "id": "9ae8d47d",
   "metadata": {},
   "outputs": [],
   "source": [
    "scl_colors = [\"black\",       # 0 - NO_DATA\n",
    "              \"red\",         # 1 - SATURATED_OR_DEFECTIVE\n",
    "              \"dimgrey\",     # 2 - DARK_AREA_PIXELS\n",
    "              \"saddlebrown\", # 3 - CLOUD_SHADOWS\n",
    "              \"lime\",        # 4 - VEGETATION\n",
    "              \"yellow\",      # 5 - NOT_VEGETATED\n",
    "              \"blue\",        # 6 - WATER\n",
    "              \"grey\",        # 7 - UNCLASSIFIED\n",
    "              \"lightgrey\",        # 8 - CLOUD_MEDIUM_PROB\n",
    "              \"darkgrey\",        # 9 - CLOUD_HIGH_PROB\n",
    "              \"aqua\",        # 10 - THIN_CIRRUS\n",
    "              \"magenta\"]     # 11 - SNOW\n",
    "              \n",
    "bounds_scl = np.arange(0, 13, 1)"
   ]
  },
  {
   "cell_type": "markdown",
   "id": "82af6039",
   "metadata": {},
   "source": [
    "![SCL_legend](./img/SCL.png)"
   ]
  },
  {
   "cell_type": "markdown",
   "id": "d93091c1",
   "metadata": {},
   "source": [
    "The figure above explains the value of each class a pixel can take within the SCL layer. This values are widely used for filtering out defective pixels, in our case study we can expect lots of pixels masked by clouds."
   ]
  },
  {
   "cell_type": "markdown",
   "id": "6633c099",
   "metadata": {},
   "source": [
    "## 2.1 - Building the composite image dataset"
   ]
  },
  {
   "cell_type": "markdown",
   "id": "ee43eb38",
   "metadata": {},
   "source": [
    "The objective of this section its to build a composite-image (dataset) for \n",
    "the basin of the river previous to the storm. Then in the next section we will compute statistics in orde to asses the overflowed area"
   ]
  },
  {
   "cell_type": "code",
   "execution_count": null,
   "id": "7e6072a0",
   "metadata": {},
   "outputs": [],
   "source": [
    "scl = rioxarray.open_rasterio(\"./sentinel2/out/SCL/S2B2A_20200113_008_tordera_SCL_10.tif\", masked=True)\n",
    "\n",
    "scl_masked = scl.where(\n",
    "                            (scl == 2) | # dark_area\n",
    "                            (scl == 4) | # vegetation\n",
    "                            (scl == 5) | # not_vegetated\n",
    "                            (scl == 6)   # water\n",
    "                          ) \n",
    "\n",
    "fig, axs = plt.subplots(2,1, figsize = (15,13))\n",
    "scl.plot(ax = axs[0], colors = scl_colors, levels = bounds_scl)\n",
    "axs[0].title.set_text(\"Scheme Classification Layer (SCL) - 2020-01-13\")\n",
    "plt.plot()\n",
    "\n",
    "scl_masked.plot(ax = axs[1],  colors = scl_colors, levels = bounds_scl)\n",
    "axs[1].title.set_text(\"SCL masked - 2020-01-13\")\n",
    "plt.show()"
   ]
  },
  {
   "cell_type": "markdown",
   "id": "560ba517",
   "metadata": {},
   "source": [
    "The `SCL masked-2020-01-13` image reveals the issue for the clouds. To build a complete composite of the basin we need to stack lots of images, filling the gaps."
   ]
  },
  {
   "cell_type": "code",
   "execution_count": null,
   "id": "b66ef166",
   "metadata": {},
   "outputs": [],
   "source": [
    "scl_dir = \"./sentinel2/out/SCL/\"\n",
    "\n",
    "scl_files = [join(scl_dir, f) for f in listdir(scl_dir) if isfile(join(scl_dir, f))]\n",
    "scl_files_dates = [S2_getDate(f).strftime(\"%Y-%m-%d\") for f in scl_files]\n",
    "scl_files_xarray = [rioxarray.open_rasterio(f) for f in scl_files] \n",
    "\n",
    "scl_dict = dict(zip(scl_files_dates, scl_files_xarray))"
   ]
  },
  {
   "cell_type": "code",
   "execution_count": null,
   "id": "7c6853c1",
   "metadata": {},
   "outputs": [],
   "source": [
    "scl_ds = xr.Dataset(scl_dict)\n",
    "scl_ds.data_vars"
   ]
  },
  {
   "cell_type": "code",
   "execution_count": null,
   "id": "05e6c925",
   "metadata": {},
   "outputs": [],
   "source": [
    "scl_ds_masked = scl_ds.where(\n",
    "                    (scl_ds == 2) | # dark_area\n",
    "                    (scl_ds == 4) | # vegetation\n",
    "                    (scl_ds == 5) | # not_vegetated\n",
    "                    (scl_ds == 6)   # water\n",
    "                )\n",
    "\n",
    "scl_ds_masked"
   ]
  },
  {
   "cell_type": "code",
   "execution_count": null,
   "id": "57d92b74",
   "metadata": {},
   "outputs": [],
   "source": [
    "reduced = scl_ds_masked.reduce(scl_ds_masked['2020-01-08'].combine_first) \n",
    "reduced = reduced.reindex(y = reduced.y[::-1])\n",
    "reduced = reduced.assign_coords(x = scl_ds_masked.x,\n",
    "                                y = scl_ds_masked.y)"
   ]
  },
  {
   "cell_type": "markdown",
   "id": "ae29fe77",
   "metadata": {},
   "source": [
    "Now in `reduced` we have a composite image with almost all defective areas filled with the actual values of the land."
   ]
  },
  {
   "cell_type": "markdown",
   "id": "2763aba0",
   "metadata": {},
   "source": [
    "<div class=\"alert alert-block alert-info\">\n",
    "<b>Note:</b> Real composites are built using months worth of satellite images, in this process all the small gaps are filled. Here for the sake of the example we will omit this step.\n",
    "</div>"
   ]
  },
  {
   "cell_type": "code",
   "execution_count": null,
   "id": "aa3aca26",
   "metadata": {},
   "outputs": [],
   "source": [
    "fig, axs = plt.subplots(1,1, figsize = (15,7))\n",
    "reduced['2020-01-13'].plot(ax = axs, colors = scl_colors, levels = bounds_scl)\n",
    "axs.title.set_text(\"Scheme Classification Layer (SCL)\")\n",
    "plt.show()"
   ]
  },
  {
   "cell_type": "markdown",
   "id": "8dfa030f",
   "metadata": {},
   "source": [
    "## 2.2 - The post overlfow image "
   ]
  },
  {
   "cell_type": "code",
   "execution_count": null,
   "id": "0758c392",
   "metadata": {},
   "outputs": [],
   "source": [
    "! ls -l ./sentinel2/out/SCL"
   ]
  },
  {
   "cell_type": "code",
   "execution_count": null,
   "id": "f5e43afb",
   "metadata": {},
   "outputs": [],
   "source": [
    "post_overflow_files = [\n",
    "   \"./sentinel2/out/SCL/S2A2A_20200128_008_tordera_SCL_10.tif\",\n",
    "   \"./sentinel2/out/SCL/S2B2A_20200202_008_tordera_SCL_10.tif\",\n",
    "   \"./sentinel2/out/SCL/S2A2A_20200207_008_tordera_SCL_10.tif\",\n",
    "   \"./sentinel2/out/SCL/S2B2A_20200212_008_tordera_SCL_10.tif\",\n",
    "]\n",
    "\n",
    "ncol = 2\n",
    "nrow = len(post_overflow_files)//2\n",
    "\n",
    "fig, axes = plt.subplots(nrow, ncol, figsize=(20,4*nrow),\n",
    "                         sharex = True,\n",
    "                         sharey = True,\n",
    "                         constrained_layout = False)\n",
    "\n",
    "for idx, ax in enumerate(np.ravel(axes)) : \n",
    "    try : \n",
    "        scl = rioxarray.open_rasterio(post_overflow_files[idx])\n",
    "        scl.plot(ax=ax, colors = scl_colors, levels = bounds_scl)\n",
    "        ax.title.set_text(\"SCL masked - %s\" % S2_getDate(post_overflow_files[idx]) )\n",
    "\n",
    "        \n",
    "    except Exception as e :\n",
    "        print(\"An error occurred while reading data for file %s \" % post_overflow_files[idx])\n",
    "        print(\"Original message: %s \" % e)\n",
    "    "
   ]
  },
  {
   "cell_type": "code",
   "execution_count": null,
   "id": "f85c10cb",
   "metadata": {},
   "outputs": [],
   "source": [
    "overflow = rioxarray.open_rasterio(\"./sentinel2/out/SCL/S2B2A_20200202_008_tordera_SCL_10.tif\", masked=True)\n",
    "\n",
    "overflow_masked = overflow.where(\n",
    "                            (scl == 2) | # dark_area\n",
    "                            (overflow == 4) | # vegetation\n",
    "                            (overflow == 5) | # not_vegetated\n",
    "                            (overflow == 6)   # water\n",
    "                          ) \n",
    "\n",
    "fig, axs = plt.subplots(2,1, figsize = (15,13))\n",
    "overflow.plot(ax = axs[0], colors = scl_colors, levels = bounds_scl)\n",
    "axs[0].title.set_text(\"SCL 2022-02-02 - POST OVERFLOW\")\n",
    "\n",
    "overflow_masked.plot(ax = axs[1],  colors = scl_colors, levels = bounds_scl)\n",
    "axs[1].title.set_text(\"SCL 2022-02-02 - POST OVERFLOW\")\n",
    "\n",
    "plt.show()"
   ]
  },
  {
   "cell_type": "markdown",
   "id": "d04dce71",
   "metadata": {},
   "source": [
    "# 3 - Computing the overflow"
   ]
  },
  {
   "cell_type": "code",
   "execution_count": null,
   "id": "5031faae",
   "metadata": {},
   "outputs": [],
   "source": [
    "fig, axs = plt.subplots(1,1, figsize = (15,7))\n",
    "diff = reduced['2020-01-23'] - overflow_masked\n",
    "diff.plot()\n",
    "plt.show()"
   ]
  },
  {
   "cell_type": "code",
   "execution_count": null,
   "id": "a16091c5",
   "metadata": {},
   "outputs": [],
   "source": [
    "fig, axs = plt.subplots(1,1, figsize = (15,7))\n",
    "diff = reduced['2020-01-13'] - overflow\n",
    "diff.plot()\n",
    "plt.show()"
   ]
  },
  {
   "cell_type": "markdown",
   "id": "5055043e",
   "metadata": {},
   "source": [
    "## 3.1 -  Overflowed area"
   ]
  },
  {
   "cell_type": "markdown",
   "id": "c34d827f",
   "metadata": {},
   "source": [
    "## 3.1 - Affected population"
   ]
  }
 ],
 "metadata": {
  "kernelspec": {
   "display_name": "optram",
   "language": "python",
   "name": "optram"
  },
  "language_info": {
   "codemirror_mode": {
    "name": "ipython",
    "version": 3
   },
   "file_extension": ".py",
   "mimetype": "text/x-python",
   "name": "python",
   "nbconvert_exporter": "python",
   "pygments_lexer": "ipython3",
   "version": "3.8.13"
  }
 },
 "nbformat": 4,
 "nbformat_minor": 5
}
